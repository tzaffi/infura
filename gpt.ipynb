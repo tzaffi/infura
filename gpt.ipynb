{
 "cells": [
  {
   "attachments": {},
   "cell_type": "markdown",
   "metadata": {},
   "source": [
    "# ETH Web3 via Infura with Secure API Key Storage"
   ]
  },
  {
   "attachments": {},
   "cell_type": "markdown",
   "metadata": {},
   "source": [
    "## Some prerequisite imports (and installs)"
   ]
  },
  {
   "cell_type": "code",
   "execution_count": 1,
   "metadata": {},
   "outputs": [],
   "source": [
    "# Unfortunately, web3 doesn't yet work on Python 3.11: https://github.com/ethereum/eth-account/issues/160\n",
    "\n",
    "# %pip install keyring\n",
    "# %pip install web3\n",
    "# %pip install websockets==10.4  # need to upgrade manually\n",
    "# %pip install glom"
   ]
  },
  {
   "cell_type": "code",
   "execution_count": 2,
   "metadata": {},
   "outputs": [],
   "source": [
    "from infura.secrets import Secrets, keyring_get_secret_with_install"
   ]
  },
  {
   "attachments": {},
   "cell_type": "markdown",
   "metadata": {},
   "source": [
    "## `class Q` (as in **query**)"
   ]
  },
  {
   "cell_type": "code",
   "execution_count": 3,
   "metadata": {},
   "outputs": [],
   "source": [
    "from infura.query import Q"
   ]
  },
  {
   "cell_type": "markdown",
   "metadata": {},
   "source": [
    "## Set up / get the secrets"
   ]
  },
  {
   "cell_type": "code",
   "execution_count": 4,
   "metadata": {},
   "outputs": [
    {
     "name": "stdout",
     "output_type": "stream",
     "text": [
      "Querying (and possibly INSTALLING) the following SECRETS using keyringkeyring.backends.macOS.Keyring (priority: 5):\n",
      "* user for keyring: zeph\n",
      "* secrets.infura_keyring_service='infura_eth_api_key'\n",
      "* secrets.eth_address_service='eth_account'\n",
      "* secrets.infura_http_endpoint_template='https://mainnet.infura.io/v3/{}'\n",
      "* secrets.infura_ws_endpoint_template='wss://mainnet.infura.io/ws/v3/{}'\n",
      "\n",
      "SUCCESS!!!\n"
     ]
    }
   ],
   "source": [
    "import getpass\n",
    "import keyring\n",
    "\n",
    "# NOPE! Better just use the default user via getpass.get_user(). But on web assembly... yeah, we need it!!!\n",
    "# keyring_user = input(\"Gimme your OS user name that keyring will use to access stuff pls...\")\n",
    "\n",
    "secrets = Secrets()\n",
    "\n",
    "print(f\"\"\"Querying (and possibly INSTALLING) the following SECRETS using keyring{keyring.get_keyring()}:\n",
    "* user for keyring: {getpass.getuser()}\n",
    "* {secrets.infura_keyring_service=}\n",
    "* {secrets.eth_address_service=}\n",
    "* {secrets.infura_http_endpoint_template=}\n",
    "* {secrets.infura_ws_endpoint_template=}\n",
    "\"\"\")\n",
    "\n",
    "keyring_get_secret_with_install(secrets.infura_keyring_service, secrets.infura_eth_api_key)\n",
    "keyring_get_secret_with_install(secrets.eth_address_service, secrets.eth_address)\n",
    "\n",
    "print(\"SUCCESS!!!\")"
   ]
  },
  {
   "attachments": {},
   "cell_type": "markdown",
   "metadata": {},
   "source": [
    "## Setup Infura"
   ]
  },
  {
   "cell_type": "code",
   "execution_count": 5,
   "metadata": {},
   "outputs": [],
   "source": [
    "q = Q(secrets)"
   ]
  },
  {
   "attachments": {},
   "cell_type": "markdown",
   "metadata": {},
   "source": [
    "## Query a few blocks\n"
   ]
  },
  {
   "cell_type": "code",
   "execution_count": null,
   "metadata": {},
   "outputs": [],
   "source": [
    "latest = q.latest_block_number()\n",
    "print(f\"{latest=}\")\n",
    "for round in range(mil := 12_000_000, latest, 500_000):\n",
    "    q.balance(round=round)\n",
    "q.balance()"
   ]
  },
  {
   "cell_type": "code",
   "execution_count": null,
   "metadata": {},
   "outputs": [],
   "source": [
    "q.balance_ws()"
   ]
  },
  {
   "attachments": {},
   "cell_type": "markdown",
   "metadata": {},
   "source": [
    "# Available Subscriptions\n",
    "\n",
    "https://geth.ethereum.org/docs/interacting-with-geth/rpc/pubsub#supported-subscriptions\n",
    "\n",
    "## `newHeads`\n",
    "\n",
    "## `logs`\n",
    "\n",
    "## `newPendingTransactions`"
   ]
  }
 ],
 "metadata": {
  "kernelspec": {
   "display_name": ".venv",
   "language": "python",
   "name": "python3"
  },
  "language_info": {
   "codemirror_mode": {
    "name": "ipython",
    "version": 3
   },
   "file_extension": ".py",
   "mimetype": "text/x-python",
   "name": "python",
   "nbconvert_exporter": "python",
   "pygments_lexer": "ipython3",
   "version": "3.10.8"
  },
  "orig_nbformat": 4,
  "vscode": {
   "interpreter": {
    "hash": "a4b13f8fa072b869238b1b0f1b2e8f0696b61ee7a571354d2296eb06b5706058"
   }
  }
 },
 "nbformat": 4,
 "nbformat_minor": 2
}
